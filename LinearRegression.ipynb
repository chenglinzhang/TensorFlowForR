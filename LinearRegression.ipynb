{
 "cells": [
  {
   "cell_type": "markdown",
   "metadata": {
    "deletable": true,
    "editable": true
   },
   "source": [
    "# Linear Regression"
   ]
  },
  {
   "cell_type": "markdown",
   "metadata": {
    "deletable": true,
    "editable": true
   },
   "source": [
    "Problem: Given observations x and y, find w and b that best fits the data, with a linear model\n",
    "    y = wx + b"
   ]
  },
  {
   "cell_type": "code",
   "execution_count": 1,
   "metadata": {
    "collapsed": true,
    "deletable": true,
    "editable": true
   },
   "outputs": [],
   "source": [
    "# load data\n",
    "library(MASS)\n",
    "data(cats)"
   ]
  },
  {
   "cell_type": "code",
   "execution_count": 2,
   "metadata": {
    "collapsed": false,
    "deletable": true,
    "editable": true
   },
   "outputs": [
    {
     "data": {
      "text/html": [
       "<table>\n",
       "<thead><tr><th scope=col>Sex</th><th scope=col>Bwt</th><th scope=col>Hwt</th></tr></thead>\n",
       "<tbody>\n",
       "\t<tr><td>F  </td><td>2.0</td><td>7.0</td></tr>\n",
       "\t<tr><td>F  </td><td>2.0</td><td>7.4</td></tr>\n",
       "\t<tr><td>F  </td><td>2.0</td><td>9.5</td></tr>\n",
       "\t<tr><td>F  </td><td>2.1</td><td>7.2</td></tr>\n",
       "\t<tr><td>F  </td><td>2.1</td><td>7.3</td></tr>\n",
       "\t<tr><td>F  </td><td>2.1</td><td>7.6</td></tr>\n",
       "</tbody>\n",
       "</table>\n"
      ],
      "text/latex": [
       "\\begin{tabular}{r|lll}\n",
       " Sex & Bwt & Hwt\\\\\n",
       "\\hline\n",
       "\t F   & 2.0 & 7.0\\\\\n",
       "\t F   & 2.0 & 7.4\\\\\n",
       "\t F   & 2.0 & 9.5\\\\\n",
       "\t F   & 2.1 & 7.2\\\\\n",
       "\t F   & 2.1 & 7.3\\\\\n",
       "\t F   & 2.1 & 7.6\\\\\n",
       "\\end{tabular}\n"
      ],
      "text/markdown": [
       "\n",
       "Sex | Bwt | Hwt | \n",
       "|---|---|---|---|---|---|\n",
       "| F   | 2.0 | 7.0 | \n",
       "| F   | 2.0 | 7.4 | \n",
       "| F   | 2.0 | 9.5 | \n",
       "| F   | 2.1 | 7.2 | \n",
       "| F   | 2.1 | 7.3 | \n",
       "| F   | 2.1 | 7.6 | \n",
       "\n",
       "\n"
      ],
      "text/plain": [
       "  Sex Bwt Hwt\n",
       "1 F   2.0 7.0\n",
       "2 F   2.0 7.4\n",
       "3 F   2.0 9.5\n",
       "4 F   2.1 7.2\n",
       "5 F   2.1 7.3\n",
       "6 F   2.1 7.6"
      ]
     },
     "metadata": {},
     "output_type": "display_data"
    },
    {
     "data": {
      "text/plain": [
       " Sex         Bwt             Hwt       \n",
       " F:47   Min.   :2.000   Min.   : 6.30  \n",
       " M:97   1st Qu.:2.300   1st Qu.: 8.95  \n",
       "        Median :2.700   Median :10.10  \n",
       "        Mean   :2.724   Mean   :10.63  \n",
       "        3rd Qu.:3.025   3rd Qu.:12.12  \n",
       "        Max.   :3.900   Max.   :20.50  "
      ]
     },
     "metadata": {},
     "output_type": "display_data"
    }
   ],
   "source": [
    "# study data\n",
    "head(cats)\n",
    "summary(cats)"
   ]
  },
  {
   "cell_type": "code",
   "execution_count": 3,
   "metadata": {
    "collapsed": true,
    "deletable": true,
    "editable": true
   },
   "outputs": [],
   "source": [
    "# prepare data\n",
    "x_data <- cats$Bwt\n",
    "y_data <- cats$Hwt"
   ]
  },
  {
   "cell_type": "code",
   "execution_count": 4,
   "metadata": {
    "collapsed": true,
    "deletable": true,
    "editable": true
   },
   "outputs": [],
   "source": [
    "# tensorflow R library\n",
    "library(tensorflow)"
   ]
  },
  {
   "cell_type": "code",
   "execution_count": 5,
   "metadata": {
    "collapsed": true,
    "deletable": true,
    "editable": true
   },
   "outputs": [],
   "source": [
    "# 1D variables\n",
    "w <- tf$Variable( tf$zeros(shape(1L)) )\n",
    "b <- tf$Variable( tf$zeros(shape(1L)) )"
   ]
  },
  {
   "cell_type": "code",
   "execution_count": 6,
   "metadata": {
    "collapsed": true,
    "deletable": true,
    "editable": true
   },
   "outputs": [],
   "source": [
    "# linear model\n",
    "y <- w * x_data + b"
   ]
  },
  {
   "cell_type": "code",
   "execution_count": 7,
   "metadata": {
    "collapsed": true,
    "deletable": true,
    "editable": true
   },
   "outputs": [],
   "source": [
    "# define a loss function\n",
    "loss <- tf$reduce_mean((y - y_data) ^ 2)"
   ]
  },
  {
   "cell_type": "code",
   "execution_count": 8,
   "metadata": {
    "collapsed": true,
    "deletable": true,
    "editable": true
   },
   "outputs": [],
   "source": [
    "# use gradient decendent optimizer\n",
    "optimizer <- tf$train$GradientDescentOptimizer(0.01)"
   ]
  },
  {
   "cell_type": "code",
   "execution_count": 9,
   "metadata": {
    "collapsed": true,
    "deletable": true,
    "editable": true
   },
   "outputs": [],
   "source": [
    "# to minimize the loss \n",
    "train <- optimizer$minimize(loss)"
   ]
  },
  {
   "cell_type": "code",
   "execution_count": 10,
   "metadata": {
    "collapsed": true,
    "deletable": true,
    "editable": true
   },
   "outputs": [],
   "source": [
    "# to be run in a session\n",
    "sess = tf$Session()"
   ]
  },
  {
   "cell_type": "code",
   "execution_count": 11,
   "metadata": {
    "collapsed": true,
    "deletable": true,
    "editable": true
   },
   "outputs": [],
   "source": [
    "# initialize the variables\n",
    "sess$run( tf$global_variables_initializer() )"
   ]
  },
  {
   "cell_type": "code",
   "execution_count": 15,
   "metadata": {
    "collapsed": false,
    "deletable": true,
    "editable": true
   },
   "outputs": [
    {
     "name": "stdout",
     "output_type": "stream",
     "text": [
      "100 - 3.870543 0.1011163 \n",
      "200 - 3.879177 0.07694326 \n",
      "300 - 3.887356 0.05404687 \n",
      "400 - 3.895103 0.03235931 \n",
      "500 - 3.902441 0.01181708 \n",
      "600 - 3.909391 -0.007640034 \n",
      "700 - 3.915974 -0.02606984 \n",
      "800 - 3.92221 -0.04352637 \n",
      "900 - 3.928116 -0.06006127 \n",
      "1000 - 3.93371 -0.07572307 \n",
      "1100 - 3.939009 -0.09055773 \n",
      "1200 - 3.944028 -0.1046088 \n",
      "1300 - 3.948782 -0.1179182 \n",
      "1400 - 3.953285 -0.1305243 \n",
      "1500 - 3.957551 -0.142465 \n",
      "1600 - 3.961591 -0.153775 \n",
      "1700 - 3.965417 -0.1644878 \n",
      "1800 - 3.969042 -0.1746352 \n",
      "1900 - 3.972475 -0.1842467 \n",
      "2000 - 3.975727 -0.1933504 \n",
      "2100 - 3.978807 -0.2019738 \n",
      "2200 - 3.981725 -0.2101417 \n",
      "2300 - 3.984488 -0.2178779 \n",
      "2400 - 3.987106 -0.2252058 \n",
      "2500 - 3.989585 -0.2321469 \n",
      "2600 - 3.991934 -0.2387212 \n",
      "2700 - 3.994158 -0.2449484 \n",
      "2800 - 3.996265 -0.2508468 \n",
      "2900 - 3.99826 -0.2564335 \n",
      "3000 - 4.000151 -0.2617255 \n",
      "3100 - 4.001941 -0.2667367 \n",
      "3200 - 4.003637 -0.2714837 \n",
      "3300 - 4.005242 -0.2759794 \n",
      "3400 - 4.006763 -0.2802382 \n",
      "3500 - 4.008204 -0.2842723 \n",
      "3600 - 4.009569 -0.2880922 \n",
      "3700 - 4.010862 -0.2917117 \n",
      "3800 - 4.012085 -0.2951389 \n",
      "3900 - 4.013247 -0.2983858 \n",
      "4000 - 4.014345 -0.3014622 \n",
      "4100 - 4.015385 -0.3043749 \n",
      "4200 - 4.01637 -0.3071336 \n",
      "4300 - 4.017303 -0.3097468 \n",
      "4400 - 4.018188 -0.3122228 \n",
      "4500 - 4.019026 -0.3145682 \n",
      "4600 - 4.019819 -0.31679 \n",
      "4700 - 4.020571 -0.3188942 \n",
      "4800 - 4.021284 -0.320887 \n",
      "4900 - 4.021958 -0.3227737 \n",
      "5000 - 4.022595 -0.324562 \n",
      "5100 - 4.023201 -0.326257 \n",
      "5200 - 4.023775 -0.3278605 \n",
      "5300 - 4.024316 -0.32938 \n",
      "5400 - 4.024832 -0.3308205 \n",
      "5500 - 4.025318 -0.3321819 \n",
      "5600 - 4.02578 -0.333476 \n",
      "5700 - 4.026216 -0.3346967 \n",
      "5800 - 4.026631 -0.335858 \n",
      "5900 - 4.027021 -0.3369532 \n",
      "6000 - 4.027395 -0.3379949 \n",
      "6100 - 4.027745 -0.338979 \n",
      "6200 - 4.02808 -0.3399107 \n",
      "6300 - 4.028395 -0.3407969 \n",
      "6400 - 4.028693 -0.3416319 \n",
      "6500 - 4.028977 -0.3424246 \n",
      "6600 - 4.029246 -0.3431782 \n",
      "6700 - 4.029499 -0.3438882 \n",
      "6800 - 4.029739 -0.344558 \n",
      "6900 - 4.029969 -0.3452004 \n",
      "7000 - 4.030185 -0.3458061 \n",
      "7100 - 4.030388 -0.3463767 \n",
      "7200 - 4.030581 -0.3469152 \n",
      "7300 - 4.030766 -0.3474328 \n",
      "7400 - 4.030941 -0.3479221 \n",
      "7500 - 4.031105 -0.3483831 \n",
      "7600 - 4.03126 -0.3488172 \n",
      "7700 - 4.031405 -0.3492264 \n",
      "7800 - 4.031548 -0.349619 \n",
      "7900 - 4.031682 -0.3499946 \n",
      "8000 - 4.031808 -0.3503487 \n",
      "8100 - 4.031927 -0.3506823 \n",
      "8200 - 4.032038 -0.3509963 \n",
      "8300 - 4.032144 -0.3512918 \n",
      "8400 - 4.032243 -0.3515705 \n",
      "8500 - 4.032338 -0.3518349 \n",
      "8600 - 4.032432 -0.3520933 \n",
      "8700 - 4.032519 -0.3523385 \n",
      "8800 - 4.032601 -0.3525695 \n",
      "8900 - 4.032679 -0.3527873 \n",
      "9000 - 4.032752 -0.3529924 \n",
      "9100 - 4.032821 -0.3531855 \n",
      "9200 - 4.032886 -0.3533673 \n",
      "9300 - 4.032946 -0.3535386 \n",
      "9400 - 4.033004 -0.3537002 \n",
      "9500 - 4.033058 -0.3538523 \n",
      "9600 - 4.033109 -0.3539957 \n",
      "9700 - 4.033157 -0.3541307 \n",
      "9800 - 4.033205 -0.3542615 \n",
      "9900 - 4.033253 -0.3543914 \n",
      "10000 - 4.033297 -0.3545165 \n",
      "10100 - 4.033339 -0.3546345 \n",
      "10200 - 4.033379 -0.3547455 \n",
      "10300 - 4.033416 -0.3548501 \n",
      "10400 - 4.033451 -0.3549486 \n",
      "10500 - 4.033484 -0.3550415 \n",
      "10600 - 4.033515 -0.3551289 \n",
      "10700 - 4.033545 -0.3552113 \n",
      "10800 - 4.033572 -0.3552889 \n",
      "10900 - 4.033598 -0.3553619 \n",
      "11000 - 4.033623 -0.3554308 \n",
      "11100 - 4.033646 -0.3554956 \n",
      "11200 - 4.033668 -0.3555567 \n",
      "11300 - 4.033688 -0.3556142 \n",
      "11400 - 4.033708 -0.3556683 \n",
      "11500 - 4.033725 -0.3557194 \n",
      "11600 - 4.033743 -0.3557674 \n",
      "11700 - 4.033759 -0.3558126 \n",
      "11800 - 4.033774 -0.3558552 \n",
      "11900 - 4.033788 -0.3558954 \n",
      "12000 - 4.033802 -0.3559331 \n",
      "12100 - 4.033814 -0.3559687 \n",
      "12200 - 4.033826 -0.3560022 \n",
      "12300 - 4.033837 -0.3560338 \n",
      "12400 - 4.033848 -0.3560635 \n",
      "12500 - 4.033858 -0.3560914 \n",
      "12600 - 4.033867 -0.3561178 \n",
      "12700 - 4.033876 -0.3561426 \n",
      "12800 - 4.033885 -0.3561659 \n",
      "12900 - 4.033893 -0.356188 \n",
      "13000 - 4.0339 -0.3562085 \n",
      "13100 - 4.033907 -0.3562281 \n",
      "13200 - 4.033913 -0.3562465 \n",
      "13300 - 4.03392 -0.3562638 \n",
      "13400 - 4.033926 -0.3562801 \n",
      "13500 - 4.033931 -0.3562956 \n",
      "13600 - 4.033936 -0.3563102 \n",
      "13700 - 4.033941 -0.3563237 \n",
      "13800 - 4.033945 -0.3563362 \n",
      "13900 - 4.033949 -0.3563485 \n",
      "14000 - 4.033954 -0.3563597 \n",
      "14100 - 4.033957 -0.3563702 \n",
      "14200 - 4.033961 -0.3563803 \n",
      "14300 - 4.033964 -0.3563895 \n",
      "14400 - 4.033967 -0.3563985 \n",
      "14500 - 4.03397 -0.3564068 \n",
      "14600 - 4.033973 -0.3564147 \n",
      "14700 - 4.033976 -0.3564218 \n",
      "14800 - 4.033978 -0.3564286 \n",
      "14900 - 4.03398 -0.3564352 \n",
      "15000 - 4.033983 -0.3564417 \n",
      "15100 - 4.033985 -0.3564476 \n",
      "15200 - 4.033987 -0.3564534 \n",
      "15300 - 4.033989 -0.3564583 \n",
      "15400 - 4.03399 -0.3564632 \n",
      "15500 - 4.033992 -0.3564672 \n",
      "15600 - 4.033993 -0.3564711 \n",
      "15700 - 4.033995 -0.3564748 \n",
      "15800 - 4.033996 -0.3564785 \n",
      "15900 - 4.033997 -0.3564818 \n",
      "16000 - 4.033998 -0.3564852 \n",
      "16100 - 4.033999 -0.3564882 \n",
      "16200 - 4.034 -0.3564911 \n",
      "16300 - 4.034001 -0.3564941 \n",
      "16400 - 4.034002 -0.356497 \n",
      "16500 - 4.034003 -0.3565 \n",
      "16600 - 4.034005 -0.3565029 \n",
      "16700 - 4.034006 -0.3565058 \n",
      "16800 - 4.034006 -0.3565059 \n",
      "16900 - 4.034006 -0.3565059 \n",
      "17000 - 4.034006 -0.3565059 \n",
      "17100 - 4.034006 -0.3565059 \n",
      "17200 - 4.034006 -0.3565059 \n",
      "17300 - 4.034006 -0.3565059 \n",
      "17400 - 4.034006 -0.3565059 \n",
      "17500 - 4.034006 -0.3565059 \n",
      "17600 - 4.034006 -0.3565059 \n",
      "17700 - 4.034006 -0.3565059 \n",
      "17800 - 4.034006 -0.3565059 \n",
      "17900 - 4.034006 -0.3565059 \n",
      "18000 - 4.034006 -0.3565059 \n",
      "18100 - 4.034006 -0.3565059 \n",
      "18200 - 4.034006 -0.3565059 \n",
      "18300 - 4.034006 -0.3565059 \n",
      "18400 - 4.034006 -0.3565059 \n",
      "18500 - 4.034006 -0.3565059 \n",
      "18600 - 4.034006 -0.3565059 \n",
      "18700 - 4.034006 -0.3565059 \n",
      "18800 - 4.034006 -0.3565059 \n",
      "18900 - 4.034006 -0.3565059 \n",
      "19000 - 4.034006 -0.3565059 \n",
      "19100 - 4.034006 -0.3565059 \n",
      "19200 - 4.034006 -0.3565059 \n",
      "19300 - 4.034006 -0.3565059 \n",
      "19400 - 4.034006 -0.3565059 \n",
      "19500 - 4.034006 -0.3565059 \n",
      "19600 - 4.034006 -0.3565059 \n",
      "19700 - 4.034006 -0.3565059 \n",
      "19800 - 4.034006 -0.3565059 \n",
      "19900 - 4.034006 -0.3565059 \n",
      "20000 - 4.034006 -0.3565059 \n"
     ]
    }
   ],
   "source": [
    "# training for 20000 epoches\n",
    "for (step in 1:20000) {\n",
    "    sess$run(train)\n",
    "    if (step %% 100 == 0)\n",
    "        cat(step, \"-\", sess$run(w), sess$run(b), \"\\n\")\n",
    "}"
   ]
  },
  {
   "cell_type": "code",
   "execution_count": 16,
   "metadata": {
    "collapsed": false,
    "deletable": true,
    "editable": true
   },
   "outputs": [
    {
     "data": {
      "text/html": [
       "4.03400564193726"
      ],
      "text/latex": [
       "4.03400564193726"
      ],
      "text/markdown": [
       "4.03400564193726"
      ],
      "text/plain": [
       "[1] 4.034006"
      ]
     },
     "metadata": {},
     "output_type": "display_data"
    },
    {
     "data": {
      "text/html": [
       "-0.356505900621414"
      ],
      "text/latex": [
       "-0.356505900621414"
      ],
      "text/markdown": [
       "-0.356505900621414"
      ],
      "text/plain": [
       "[1] -0.3565059"
      ]
     },
     "metadata": {},
     "output_type": "display_data"
    }
   ],
   "source": [
    "# found w and b\n",
    "sess$run(w)\n",
    "sess$run(b)"
   ]
  },
  {
   "cell_type": "code",
   "execution_count": 17,
   "metadata": {
    "collapsed": false,
    "deletable": true,
    "editable": true
   },
   "outputs": [
    {
     "data": {
      "text/plain": [
       "\n",
       "Call:\n",
       "lm(formula = Hwt ~ Bwt, data = cats)\n",
       "\n",
       "Coefficients:\n",
       "(Intercept)          Bwt  \n",
       "    -0.3567       4.0341  \n"
      ]
     },
     "metadata": {},
     "output_type": "display_data"
    }
   ],
   "source": [
    "# R linear regression\n",
    "lm(Hwt ~ Bwt, data=cats)"
   ]
  },
  {
   "cell_type": "code",
   "execution_count": 18,
   "metadata": {
    "collapsed": false,
    "deletable": true,
    "editable": true
   },
   "outputs": [
    {
     "data": {
      "text/html": [
       "9.72850820422173"
      ],
      "text/latex": [
       "9.72850820422173"
      ],
      "text/markdown": [
       "9.72850820422173"
      ],
      "text/plain": [
       "[1] 9.728508"
      ]
     },
     "metadata": {},
     "output_type": "display_data"
    }
   ],
   "source": [
    "# given x, predict y, by y = wx + b\n",
    "x <- 2.5\n",
    "y <- sess$run(w) * x + sess$run(b)\n",
    "y"
   ]
  },
  {
   "cell_type": "code",
   "execution_count": null,
   "metadata": {
    "collapsed": true,
    "deletable": true,
    "editable": true
   },
   "outputs": [],
   "source": []
  }
 ],
 "metadata": {
  "kernelspec": {
   "display_name": "R",
   "language": "R",
   "name": "ir"
  },
  "language_info": {
   "codemirror_mode": "r",
   "file_extension": ".r",
   "mimetype": "text/x-r-source",
   "name": "R",
   "pygments_lexer": "r",
   "version": "3.3.2"
  }
 },
 "nbformat": 4,
 "nbformat_minor": 2
}
